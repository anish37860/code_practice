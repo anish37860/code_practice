{
 "cells": [
  {
   "cell_type": "markdown",
   "metadata": {},
   "source": [
    "## Leet Code Problems"
   ]
  },
  {
   "cell_type": "markdown",
   "metadata": {},
   "source": [
    "**Easy Problem 3190: Find Minimum Operations to make All Elements Divisible by Three**\n",
    "\n",
    "You are given an integer array nums. In one operation, you can add or subtract 1 from any element of nums.\n",
    "\n",
    "Return the minimum number of operations to make all elements of nums divisible by 3.\n",
    "\n",
    "Example 1:\n",
    "\n",
    "- Input: nums = [1,2,3,4]\n",
    "- Output: 3\n",
    "- Explanation: \n",
    "    All array elements can be made divisible by 3 using 3 operations:\n",
    "\n",
    "        Subtract 1 from 1.\n",
    "        Add 1 to 2.\n",
    "        Subtract 1 from 4.\n",
    "\n",
    "Example 2:\n",
    "Input: nums = [3,6,9]\n",
    "Output: 0\n",
    "\n",
    "\n",
    "Constraints:\n",
    "\n",
    "    1 <= nums.length <= 50\n",
    "    1 <= nums[i] <= 50\n"
   ]
  },
  {
   "cell_type": "code",
   "execution_count": 1,
   "metadata": {},
   "outputs": [],
   "source": [
    "def minimumOperations(nums):\n",
    "    n = 0\n",
    "    for i in nums:\n",
    "        if i%3 != 0:\n",
    "            n+=1\n",
    "    return n\n",
    "          \n",
    "            "
   ]
  },
  {
   "cell_type": "code",
   "execution_count": 2,
   "metadata": {},
   "outputs": [
    {
     "data": {
      "text/plain": [
       "3"
      ]
     },
     "execution_count": 2,
     "metadata": {},
     "output_type": "execute_result"
    }
   ],
   "source": [
    "minimumOperations([1,2,3,4])"
   ]
  },
  {
   "cell_type": "code",
   "execution_count": 3,
   "metadata": {},
   "outputs": [
    {
     "data": {
      "text/plain": [
       "0"
      ]
     },
     "execution_count": 3,
     "metadata": {},
     "output_type": "execute_result"
    }
   ],
   "source": [
    "minimumOperations([3,6,9])"
   ]
  }
 ],
 "metadata": {
  "kernelspec": {
   "display_name": ".venv",
   "language": "python",
   "name": "python3"
  },
  "language_info": {
   "codemirror_mode": {
    "name": "ipython",
    "version": 3
   },
   "file_extension": ".py",
   "mimetype": "text/x-python",
   "name": "python",
   "nbconvert_exporter": "python",
   "pygments_lexer": "ipython3",
   "version": "3.10.11"
  }
 },
 "nbformat": 4,
 "nbformat_minor": 2
}
