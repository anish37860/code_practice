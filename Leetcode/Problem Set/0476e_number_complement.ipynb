{
 "cells": [
  {
   "cell_type": "markdown",
   "metadata": {},
   "source": [
    "## Leet Code Problems"
   ]
  },
  {
   "cell_type": "markdown",
   "metadata": {},
   "source": [
    "**Easy Problem 0476: Number Complement**\n",
    "\n",
    "The complement of an integer is the integer you get when you flip all the 0's to 1's and all the 1's to 0's in its binary representation.\n",
    "\n",
    "    For example, The integer 5 is \"101\" in binary and its complement is \"010\" which is the integer 2.\n",
    "\n",
    "Given an integer num, return its complement. \n",
    "\n",
    "Example 1:\n",
    "\n",
    "- Input: num = 5\n",
    "- Output: 2\n",
    "- Explanation: The binary representation of 5 is 101 (no leading zero bits), and its complement is 010. So you need to output 2.\n",
    "\n",
    "Example 2:\n",
    "\n",
    "- Input: num = 1\n",
    "- Output: 0\n",
    "- Explanation: The binary representation of 1 is 1 (no leading zero bits), and its complement is 0. So you need to output 0.\n",
    "\n",
    "Constraints:\n",
    "\n",
    "    1 <= num < 231\n"
   ]
  },
  {
   "cell_type": "code",
   "execution_count": 1,
   "metadata": {},
   "outputs": [],
   "source": [
    "def findComplement(num):\n",
    "    bnum = bin(num)[2:]\n",
    "    nbnum = \"\"\n",
    "\n",
    "    for i in range(0,len(bnum)):\n",
    "        if bnum[i] == '0':\n",
    "            nbnum = nbnum + \"1\"\n",
    "        elif bnum[i] == '1':\n",
    "            nbnum = nbnum + \"0\"\n",
    "            \n",
    "    return int(nbnum,2)"
   ]
  },
  {
   "cell_type": "code",
   "execution_count": 2,
   "metadata": {},
   "outputs": [
    {
     "data": {
      "text/plain": [
       "2"
      ]
     },
     "execution_count": 2,
     "metadata": {},
     "output_type": "execute_result"
    }
   ],
   "source": [
    "findComplement(5)"
   ]
  },
  {
   "cell_type": "code",
   "execution_count": 3,
   "metadata": {},
   "outputs": [
    {
     "data": {
      "text/plain": [
       "0"
      ]
     },
     "execution_count": 3,
     "metadata": {},
     "output_type": "execute_result"
    }
   ],
   "source": [
    "findComplement(1)"
   ]
  }
 ],
 "metadata": {
  "kernelspec": {
   "display_name": ".venv",
   "language": "python",
   "name": "python3"
  },
  "language_info": {
   "codemirror_mode": {
    "name": "ipython",
    "version": 3
   },
   "file_extension": ".py",
   "mimetype": "text/x-python",
   "name": "python",
   "nbconvert_exporter": "python",
   "pygments_lexer": "ipython3",
   "version": "3.10.11"
  }
 },
 "nbformat": 4,
 "nbformat_minor": 2
}
