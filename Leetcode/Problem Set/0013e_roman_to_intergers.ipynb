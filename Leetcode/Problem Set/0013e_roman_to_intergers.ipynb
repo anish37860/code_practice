{
 "cells": [
  {
   "cell_type": "markdown",
   "metadata": {},
   "source": [
    "## Leet Code Problems"
   ]
  },
  {
   "cell_type": "markdown",
   "metadata": {},
   "source": [
    "**Easy Problem 0013: Roman to Integer**\n",
    "\n",
    "\n",
    "\n",
    "\n",
    "Roman numerals are represented by seven different symbols: I, V, X, L, C, D and M.\n",
    "\n",
    "    Symbol       Value\n",
    "    I             1\n",
    "    V             5\n",
    "    X             10\n",
    "    L             50\n",
    "    C             100\n",
    "    D             500\n",
    "    M             1000\n",
    "\n",
    "For example, `2` is written as 'II' in Roman numeral, just two ones added together. '12' is written as 'XII', which is simply 'X' + 'II'. The number '27' is written as 'XXVII', which is 'XX + V + II'.\n",
    "\n",
    "Roman numerals are usually written largest to smallest from left to right. However, the numeral for four is not IIII. Instead, the number four is written as IV. Because the one is before the five we subtract it making four. The same principle applies to the number nine, which is written as IX. There are six instances where subtraction is used:\n",
    "\n",
    "- I can be placed before V (5) and X (10) to make 4 and 9. \n",
    "- X can be placed before L (50) and C (100) to make 40 and 90. \n",
    "- C can be placed before D (500) and M (1000) to make 400 and 900.\n",
    "\n",
    "Given a roman numeral, convert it to an integer.\n",
    "\n",
    " \n",
    "\n",
    "Example 1:\n",
    "- Input: s = \"III\"\n",
    "- Output: 3\n",
    "- Explanation: III = 3.\n",
    "\n",
    "Example 2:\n",
    "- Input: s = \"LVIII\"\n",
    "- Output: 58\n",
    "- Explanation: L = 50, V= 5, III = 3.\n",
    "\n",
    "Example 3:\n",
    "- Input: s = \"MCMXCIV\"\n",
    "- Output: 1994\n",
    "- Explanation: M = 1000, CM = 900, XC = 90 and IV = 4."
   ]
  },
  {
   "cell_type": "code",
   "execution_count": 1,
   "metadata": {},
   "outputs": [],
   "source": [
    "s1 = \"III\" #3\n",
    "s2 = \"LVIII\" #58\n",
    "s3 = \"MCMXCIV\" #1994"
   ]
  },
  {
   "cell_type": "code",
   "execution_count": 2,
   "metadata": {},
   "outputs": [],
   "source": [
    "def romanToInt(s: str) -> int:\n",
    "    roman = {'I':1,'V':5,'X':10,'L':50,'C':100,'D':500,'M':1000}\n",
    "    roman_s = {'IV':2, 'IX':2, 'XL':20, 'XC':20, 'CD':200, 'CM':200}\n",
    "    \n",
    "    s0 = s\n",
    "    s=s[::-1]\n",
    "    s=[*s]\n",
    "    \n",
    "    total = 0\n",
    "    for i in s:\n",
    "        if i in roman:\n",
    "            total = total + roman[i]\n",
    "\n",
    "    for i in roman_s:\n",
    "        if s0.find(i) >= 0:\n",
    "            total = total - roman_s[i]\n",
    "            \n",
    "    return total"
   ]
  },
  {
   "cell_type": "code",
   "execution_count": 3,
   "metadata": {},
   "outputs": [
    {
     "data": {
      "text/plain": [
       "3"
      ]
     },
     "execution_count": 3,
     "metadata": {},
     "output_type": "execute_result"
    }
   ],
   "source": [
    "romanToInt(s1)"
   ]
  },
  {
   "cell_type": "code",
   "execution_count": 4,
   "metadata": {},
   "outputs": [
    {
     "data": {
      "text/plain": [
       "58"
      ]
     },
     "execution_count": 4,
     "metadata": {},
     "output_type": "execute_result"
    }
   ],
   "source": [
    "romanToInt(s2)"
   ]
  },
  {
   "cell_type": "code",
   "execution_count": 5,
   "metadata": {},
   "outputs": [
    {
     "data": {
      "text/plain": [
       "1994"
      ]
     },
     "execution_count": 5,
     "metadata": {},
     "output_type": "execute_result"
    }
   ],
   "source": [
    "romanToInt(s3)"
   ]
  }
 ],
 "metadata": {
  "kernelspec": {
   "display_name": ".venv",
   "language": "python",
   "name": "python3"
  },
  "language_info": {
   "codemirror_mode": {
    "name": "ipython",
    "version": 3
   },
   "file_extension": ".py",
   "mimetype": "text/x-python",
   "name": "python",
   "nbconvert_exporter": "python",
   "pygments_lexer": "ipython3",
   "version": "3.10.11"
  }
 },
 "nbformat": 4,
 "nbformat_minor": 2
}
