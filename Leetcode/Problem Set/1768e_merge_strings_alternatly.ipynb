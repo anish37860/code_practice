{
 "cells": [
  {
   "cell_type": "markdown",
   "metadata": {},
   "source": [
    "## Leet Code Problems"
   ]
  },
  {
   "cell_type": "markdown",
   "metadata": {},
   "source": [
    "**Easy Problem 1768: Merge Strings Alternatly**\n",
    "\n",
    "You are given two strings word1 and word2. Merge the strings by adding letters in alternating order, starting with word1. If a string is longer than the other, append the additional letters onto the end of the merged string.\n",
    "\n",
    "Return the merged string.\n",
    "\n",
    "Example 1:\n",
    "- Input: word1 = \"abc\", word2 = \"pqr\"\n",
    "- Output: \"apbqcr\"\n",
    "- Explanation: The merged string will be merged as so:\n",
    "    word1:  a   b   c\n",
    "    word2:    p   q   r\n",
    "    merged: a p b q c r\n",
    "\n",
    "Example 2:\n",
    "- Input: word1 = \"ab\", word2 = \"pqrs\"\n",
    "- Output: \"apbqrs\"\n",
    "- Explanation: Notice that as word2 is longer, \"rs\" is appended to the end.\n",
    "    word1:  a   b \n",
    "    word2:    p   q   r   s\n",
    "    merged: a p b q   r   s\n",
    "\n",
    "Example 3:\n",
    "- Input: word1 = \"abcd\", word2 = \"pq\"\n",
    "- Output: \"apbqcd\"\n",
    "- Explanation: Notice that as word1 is longer, \"cd\" is appended to the end.\n",
    "    word1:  a   b   c   d\n",
    "    word2:    p   q \n",
    "    merged: a p b q c   d"
   ]
  },
  {
   "cell_type": "code",
   "execution_count": 1,
   "metadata": {},
   "outputs": [],
   "source": [
    "word1 = \"abc\"\n",
    "word2 = \"pqr\"\n",
    "\n",
    "word3 = \"ab\"\n",
    "word4 = \"pqrs\"\n",
    "\n",
    "word5 = \"abcd\"\n",
    "word6 = \"pq\""
   ]
  },
  {
   "cell_type": "code",
   "execution_count": 2,
   "metadata": {},
   "outputs": [],
   "source": [
    "def mergeAlternately(word1: str, word2: str) -> str:\n",
    "    merged = ''\n",
    "\n",
    "    if len(word1) >= len(word2):\n",
    "        word = word1\n",
    "    elif len(word2) > len(word1):\n",
    "        word = word2\n",
    "\n",
    "    i=0\n",
    "    while i < len(word):\n",
    "        if i < len(word1):\n",
    "            merged = merged + word1[i]\n",
    "        if i < len(word2):\n",
    "            merged = merged + word2[i]\n",
    "        i+=1\n",
    "    return merged"
   ]
  },
  {
   "cell_type": "code",
   "execution_count": 3,
   "metadata": {},
   "outputs": [
    {
     "data": {
      "text/plain": [
       "'apbqcr'"
      ]
     },
     "execution_count": 3,
     "metadata": {},
     "output_type": "execute_result"
    }
   ],
   "source": [
    "mergeAlternately(word1,word2)"
   ]
  },
  {
   "cell_type": "code",
   "execution_count": 4,
   "metadata": {},
   "outputs": [
    {
     "data": {
      "text/plain": [
       "'apbqrs'"
      ]
     },
     "execution_count": 4,
     "metadata": {},
     "output_type": "execute_result"
    }
   ],
   "source": [
    "mergeAlternately(word3,word4)"
   ]
  },
  {
   "cell_type": "code",
   "execution_count": 5,
   "metadata": {},
   "outputs": [
    {
     "data": {
      "text/plain": [
       "'apbqcd'"
      ]
     },
     "execution_count": 5,
     "metadata": {},
     "output_type": "execute_result"
    }
   ],
   "source": [
    "mergeAlternately(word5,word6)"
   ]
  }
 ],
 "metadata": {
  "kernelspec": {
   "display_name": ".venv",
   "language": "python",
   "name": "python3"
  },
  "language_info": {
   "codemirror_mode": {
    "name": "ipython",
    "version": 3
   },
   "file_extension": ".py",
   "mimetype": "text/x-python",
   "name": "python",
   "nbconvert_exporter": "python",
   "pygments_lexer": "ipython3",
   "version": "3.10.11"
  }
 },
 "nbformat": 4,
 "nbformat_minor": 2
}
