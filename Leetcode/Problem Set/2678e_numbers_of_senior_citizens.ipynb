{
 "cells": [
  {
   "cell_type": "markdown",
   "metadata": {},
   "source": [
    "## Leet Code Problems"
   ]
  },
  {
   "cell_type": "markdown",
   "metadata": {},
   "source": [
    "**Easy Problem 2678: Number of Senior Citizens**\n",
    "\n",
    "You are given a 0-indexed array of strings details. Each element of details provides information about a given passenger compressed into a string of length 15. The system is such that:\n",
    "\n",
    "    The first ten characters consist of the phone number of passengers. 0 to 9\n",
    "    The next character denotes the gender of the person. 10\n",
    "    The following two characters are used to indicate the age of the person. 11-12\n",
    "    The last two characters determine the seat allotted to that person. 12-14\n",
    "\n",
    "Return the number of passengers who are strictly more than 60 years old.\n",
    "\n",
    "Example 1:\n",
    "- Input: details = [\"7868190130M7522\",\"5303914400F9211\",\"9273338290F4010\"]\n",
    "- Output: 2\n",
    "- Explanation: The passengers at indices 0, 1, and 2 have ages 75, 92, and 40. Thus, there are 2 people who are over 60 years old.\n",
    "\n",
    "Example 2:\n",
    "- Input: details = [\"1313579440F2036\",\"2921522980M5644\"]\n",
    "- Output: 0\n",
    "- Explanation: None of the passengers are older than 60."
   ]
  },
  {
   "cell_type": "code",
   "execution_count": 1,
   "metadata": {},
   "outputs": [],
   "source": [
    "l1 = [\"7868190130M7522\",\"5303914400F9211\",\"9273338290F4010\"]\n",
    "l2 = [\"1313579440F2036\",\"2921522980M5644\"]\n",
    "l3 = [\"9751302862F0693\",\"3888560693F7262\",\"5485983835F0649\",\"2580974299F6042\",\"9976672161M6561\",\"0234451011F8013\",\"4294552179O6482\"]"
   ]
  },
  {
   "cell_type": "code",
   "execution_count": 2,
   "metadata": {},
   "outputs": [],
   "source": [
    "def countSeniors(details):\n",
    "    n=0\n",
    "    for i in details:\n",
    "        age = int(i[11:13])\n",
    "        if age > 60:\n",
    "            n += 1\n",
    "    return n"
   ]
  },
  {
   "cell_type": "code",
   "execution_count": 3,
   "metadata": {},
   "outputs": [
    {
     "data": {
      "text/plain": [
       "2"
      ]
     },
     "execution_count": 3,
     "metadata": {},
     "output_type": "execute_result"
    }
   ],
   "source": [
    "countSeniors(l1)"
   ]
  },
  {
   "cell_type": "code",
   "execution_count": 4,
   "metadata": {},
   "outputs": [
    {
     "data": {
      "text/plain": [
       "0"
      ]
     },
     "execution_count": 4,
     "metadata": {},
     "output_type": "execute_result"
    }
   ],
   "source": [
    "countSeniors(l2)"
   ]
  },
  {
   "cell_type": "code",
   "execution_count": 5,
   "metadata": {},
   "outputs": [
    {
     "data": {
      "text/plain": [
       "4"
      ]
     },
     "execution_count": 5,
     "metadata": {},
     "output_type": "execute_result"
    }
   ],
   "source": [
    "countSeniors(l3)"
   ]
  }
 ],
 "metadata": {
  "kernelspec": {
   "display_name": ".venv",
   "language": "python",
   "name": "python3"
  },
  "language_info": {
   "codemirror_mode": {
    "name": "ipython",
    "version": 3
   },
   "file_extension": ".py",
   "mimetype": "text/x-python",
   "name": "python",
   "nbconvert_exporter": "python",
   "pygments_lexer": "ipython3",
   "version": "3.10.11"
  }
 },
 "nbformat": 4,
 "nbformat_minor": 2
}
