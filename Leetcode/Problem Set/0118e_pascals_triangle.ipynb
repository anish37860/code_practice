{
 "cells": [
  {
   "cell_type": "markdown",
   "metadata": {},
   "source": [
    "## Leet Code Problems"
   ]
  },
  {
   "cell_type": "markdown",
   "metadata": {},
   "source": [
    "**Easy Problem 0118: Pascal's Triangle**\n",
    "\n",
    "Given an integer numRows, return the first numRows of Pascal's triangle.\n",
    "\n",
    "In Pascal's triangle, each number is the sum of the two numbers directly above it as shown:\n",
    "\n",
    "Example 1:\n",
    "- Input: numRows = 5\n",
    "- Output: [[1],[1,1],[1,2,1],[1,3,3,1],[1,4,6,4,1]]\n",
    "\n",
    "Example 2:\n",
    "- Input: numRows = 1\n",
    "- Output: [[1]]\n",
    "\n",
    "Constraints:\n",
    "\n",
    "    1 <= numRows <= 30\n",
    "\n"
   ]
  },
  {
   "cell_type": "code",
   "execution_count": 1,
   "metadata": {},
   "outputs": [],
   "source": [
    "def generate(numRows: int):\n",
    "    l = []\n",
    "    l1 = [1]\n",
    "    l2 = [1,1]\n",
    "\n",
    "\n",
    "    for i in range(0,numRows):\n",
    "        if i == 0:\n",
    "            l.append(l1)\n",
    "        elif i == 1:\n",
    "            l.append(l2)\n",
    "        elif i == 2:\n",
    "            l3 = [1] * (i+1)\n",
    "            l3[i-1] = l3[i] + l3[i-2]\n",
    "            l.append(l3)\n",
    "        else:\n",
    "            l2 = l[-1]\n",
    "            l3 = [1] * (i+1)\n",
    "            for j in range(1,len(l2)):\n",
    "                l3[j] = l2[j] + l2[j-1]\n",
    "            l.append(l3)\n",
    "    return l"
   ]
  },
  {
   "cell_type": "code",
   "execution_count": 2,
   "metadata": {},
   "outputs": [
    {
     "data": {
      "text/plain": [
       "[[1], [1, 1], [1, 2, 1], [1, 3, 3, 1], [1, 4, 6, 4, 1]]"
      ]
     },
     "execution_count": 2,
     "metadata": {},
     "output_type": "execute_result"
    }
   ],
   "source": [
    "generate(5)"
   ]
  },
  {
   "cell_type": "code",
   "execution_count": 3,
   "metadata": {},
   "outputs": [
    {
     "data": {
      "text/plain": [
       "[[1]]"
      ]
     },
     "execution_count": 3,
     "metadata": {},
     "output_type": "execute_result"
    }
   ],
   "source": [
    "generate(1)"
   ]
  }
 ],
 "metadata": {
  "kernelspec": {
   "display_name": ".venv",
   "language": "python",
   "name": "python3"
  },
  "language_info": {
   "codemirror_mode": {
    "name": "ipython",
    "version": 3
   },
   "file_extension": ".py",
   "mimetype": "text/x-python",
   "name": "python",
   "nbconvert_exporter": "python",
   "pygments_lexer": "ipython3",
   "version": "3.10.11"
  }
 },
 "nbformat": 4,
 "nbformat_minor": 2
}
