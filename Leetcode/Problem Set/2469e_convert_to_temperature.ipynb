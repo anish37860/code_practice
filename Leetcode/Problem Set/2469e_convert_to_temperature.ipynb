{
 "cells": [
  {
   "cell_type": "markdown",
   "metadata": {},
   "source": [
    "## Leet Code Problems"
   ]
  },
  {
   "cell_type": "markdown",
   "metadata": {},
   "source": [
    "**Easy Problem 2469: Convert the Temperature**\n",
    "\n",
    "You are given a non-negative floating point number rounded to two decimal places `celsius`, that denotes the temperature in Celsius.\n",
    "\n",
    "You should convert Celsius into Kelvin and Fahrenheit and return it as an array `ans = [kelvin, fahrenheit]`.\n",
    "\n",
    "Return the array `ans`. Answers within $10^{-5}$ of the actual answer will be accepted.\n",
    "\n",
    "Note that:\n",
    "\n",
    "    Kelvin = Celsius + 273.15\n",
    "    Fahrenheit = Celsius * 1.80 + 32.00\n",
    "\n",
    " \n",
    "\n",
    "Example 1:\n",
    "\n",
    "- Input: celsius = 36.50\n",
    "- Output: [309.65000,97.70000]\n",
    "- Explanation: Temperature at 36.50 Celsius converted in Kelvin is 309.65 and converted in Fahrenheit is 97.70.\n",
    "\n",
    "Example 2:\n",
    "\n",
    "- Input: celsius = 122.11\n",
    "- Output: [395.26000,251.79800]\n",
    "- Explanation: Temperature at 122.11 Celsius converted in Kelvin is 395.26 and converted in Fahrenheit is 251.798.\n",
    "\n",
    " \n",
    "\n",
    "Constraints:\n",
    "\n",
    "    0 <= celsius <= 1000\n",
    "\n"
   ]
  },
  {
   "cell_type": "code",
   "execution_count": 1,
   "metadata": {},
   "outputs": [],
   "source": [
    "def convertTemperature(celsius):\n",
    "    kelvin = round(celsius + 273.15, 5)\n",
    "    fahrenheit = round(celsius * 1.80 + 32.00, 5)\n",
    "    return [kelvin, fahrenheit]"
   ]
  },
  {
   "cell_type": "code",
   "execution_count": 2,
   "metadata": {},
   "outputs": [
    {
     "data": {
      "text/plain": [
       "[309.65, 97.7]"
      ]
     },
     "execution_count": 2,
     "metadata": {},
     "output_type": "execute_result"
    }
   ],
   "source": [
    "convertTemperature(36.50)"
   ]
  },
  {
   "cell_type": "code",
   "execution_count": 3,
   "metadata": {},
   "outputs": [
    {
     "data": {
      "text/plain": [
       "[395.26, 251.798]"
      ]
     },
     "execution_count": 3,
     "metadata": {},
     "output_type": "execute_result"
    }
   ],
   "source": [
    "convertTemperature(122.11)"
   ]
  }
 ],
 "metadata": {
  "kernelspec": {
   "display_name": ".venv",
   "language": "python",
   "name": "python3"
  },
  "language_info": {
   "codemirror_mode": {
    "name": "ipython",
    "version": 3
   },
   "file_extension": ".py",
   "mimetype": "text/x-python",
   "name": "python",
   "nbconvert_exporter": "python",
   "pygments_lexer": "ipython3",
   "version": "3.10.11"
  }
 },
 "nbformat": 4,
 "nbformat_minor": 2
}
