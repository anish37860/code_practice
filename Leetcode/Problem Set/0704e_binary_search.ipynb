{
 "cells": [
  {
   "cell_type": "markdown",
   "metadata": {},
   "source": [
    "## Leet Code Problems"
   ]
  },
  {
   "cell_type": "markdown",
   "metadata": {},
   "source": [
    "**Easy Problem 704: Binary Search**\n",
    "\n",
    "Given an array of integers `nums` which is sorted in ascending order, and an integer `target`, write a function to search `target` in nums. If `target` exists, then return its `index`. Otherwise, return `-1`.\n",
    "\n",
    "You must write an algorithm with `O(log n)` runtime complexity.\n",
    "\n",
    "Example 1:\n",
    "- Input: nums = [-1,0,3,5,9,12], target = 9\n",
    "- Output: 4\n",
    "- Explanation: 9 exists in nums and its index is 4\n",
    "\n",
    "Example 2:\n",
    "- Input: nums = [-1,0,3,5,9,12], target = 2\n",
    "- Output: -1\n",
    "- Explanation: 2 does not exist in nums so return -1\n",
    "\n",
    "Constraints:\n",
    "\n",
    "    1 <= nums.length <= 104\n",
    "    -104 < nums[i], target < 104\n",
    "    All the integers in nums are unique.\n",
    "    nums is sorted in ascending order.\n",
    "\n",
    "\n"
   ]
  },
  {
   "cell_type": "code",
   "execution_count": 1,
   "metadata": {},
   "outputs": [],
   "source": [
    "n1, t1 = [-1,0,3,5,9,12], 9\n",
    "n2, t2 = [-1,0,3,5,9,12], 2"
   ]
  },
  {
   "cell_type": "code",
   "execution_count": 2,
   "metadata": {},
   "outputs": [],
   "source": [
    "def search(nums, target):\n",
    "    if ((target in nums) == True):\n",
    "        low, high = 0, len(nums)-1\n",
    "        if nums[low] == target:\n",
    "            idx=low\n",
    "        elif nums[high] == target:\n",
    "            idx = high\n",
    "        else:\n",
    "            while low <= high and low > 4:\n",
    "                mid = low + (high - low)//2\n",
    "                low = mid\n",
    "                if nums[mid] == target:\n",
    "                    idx = mid\n",
    "                    break\n",
    "            if low <= 4:\n",
    "                for i in range(0,len(nums)):\n",
    "                    if nums[i] == target:\n",
    "                        idx = i\n",
    "                        break\n",
    "    else:\n",
    "        idx = -1\n",
    "    return idx"
   ]
  },
  {
   "cell_type": "code",
   "execution_count": 3,
   "metadata": {},
   "outputs": [
    {
     "data": {
      "text/plain": [
       "4"
      ]
     },
     "execution_count": 3,
     "metadata": {},
     "output_type": "execute_result"
    }
   ],
   "source": [
    "search(n1,t1)"
   ]
  },
  {
   "cell_type": "code",
   "execution_count": 4,
   "metadata": {},
   "outputs": [
    {
     "data": {
      "text/plain": [
       "-1"
      ]
     },
     "execution_count": 4,
     "metadata": {},
     "output_type": "execute_result"
    }
   ],
   "source": [
    "search(n2,t2)"
   ]
  },
  {
   "cell_type": "markdown",
   "metadata": {},
   "source": [
    "`Phew`\n",
    "\n",
    "`First question of Binary Search`\n",
    "\n",
    "`SOLVED`\n",
    "\n",
    "started simply just by directly applying what i understand by the alogrithm of binary search. \n",
    "\n",
    "it passed the two test cases given in the question.\n",
    "\n",
    "but after submitting the test case it started giving error.\n",
    "\n",
    "hence, after satifying three more test cases, code got accepted.\n",
    "\n",
    "`by the way, it must not be the best version of the code, so will try it once again after some time.`"
   ]
  },
  {
   "cell_type": "code",
   "execution_count": 5,
   "metadata": {},
   "outputs": [
    {
     "data": {
      "text/plain": [
       "1"
      ]
     },
     "execution_count": 5,
     "metadata": {},
     "output_type": "execute_result"
    }
   ],
   "source": [
    "search([2,5],5)"
   ]
  },
  {
   "cell_type": "code",
   "execution_count": 6,
   "metadata": {},
   "outputs": [
    {
     "data": {
      "text/plain": [
       "5"
      ]
     },
     "execution_count": 6,
     "metadata": {},
     "output_type": "execute_result"
    }
   ],
   "source": [
    "search([-1,0,3,5,9,12],12)"
   ]
  },
  {
   "cell_type": "code",
   "execution_count": 7,
   "metadata": {},
   "outputs": [
    {
     "data": {
      "text/plain": [
       "1"
      ]
     },
     "execution_count": 7,
     "metadata": {},
     "output_type": "execute_result"
    }
   ],
   "source": [
    "search([-1,0,3,5,9,12],0)"
   ]
  }
 ],
 "metadata": {
  "kernelspec": {
   "display_name": ".venv",
   "language": "python",
   "name": "python3"
  },
  "language_info": {
   "codemirror_mode": {
    "name": "ipython",
    "version": 3
   },
   "file_extension": ".py",
   "mimetype": "text/x-python",
   "name": "python",
   "nbconvert_exporter": "python",
   "pygments_lexer": "ipython3",
   "version": "3.10.11"
  }
 },
 "nbformat": 4,
 "nbformat_minor": 2
}
