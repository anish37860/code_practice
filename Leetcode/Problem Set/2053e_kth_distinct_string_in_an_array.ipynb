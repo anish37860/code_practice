{
 "cells": [
  {
   "cell_type": "markdown",
   "metadata": {},
   "source": [
    "## Leet Code Problems"
   ]
  },
  {
   "cell_type": "markdown",
   "metadata": {},
   "source": [
    "**Easy Problem 2053: Kth Distinct Sting in an Array**\n",
    "\n",
    "A distinct string is a string that is present only once in an array.\n",
    "\n",
    "Given an array of strings arr, and an integer k, return the kth distinct string present in arr. If there are fewer than k distinct strings, return an empty string \"\".\n",
    "\n",
    "Note that the strings are considered in the order in which they appear in the array.\n",
    "\n",
    "Example 1:\n",
    "- Input: arr = [\"d\",\"b\",\"c\",\"b\",\"c\",\"a\"], k = 2\n",
    "- Output: \"a\"\n",
    "- Explanation:\n",
    "        The only distinct strings in arr are \"d\" and \"a\".\n",
    "        \"d\" appears 1st, so it is the 1st distinct string.\n",
    "        \"a\" appears 2nd, so it is the 2nd distinct string.\n",
    "        Since k == 2, \"a\" is returned. \n",
    "\n",
    "Example 2:\n",
    "- Input: arr = [\"aaa\",\"aa\",\"a\"], k = 1\n",
    "- Output: \"aaa\"\n",
    "- Explanation: All strings in arr are distinct, so the 1st string \"aaa\" is returned.\n",
    "\n",
    "Example 3:\n",
    "- Input: arr = [\"a\",\"b\",\"a\"], k = 3\n",
    "- Output: \"\"\n",
    "- Explanation: The only distinct string is \"b\". Since there are fewer than 3 distinct strings, we return an empty string \"\".\n",
    "\n",
    "Constraints:\n",
    "\n",
    "    1 <= k <= arr.length <= 1000\n",
    "    1 <= arr[i].length <= 5\n",
    "    arr[i] consists of lowercase English letters.\n"
   ]
  },
  {
   "cell_type": "code",
   "execution_count": 1,
   "metadata": {},
   "outputs": [],
   "source": [
    "a1, k1 = [\"d\",\"b\",\"c\",\"b\",\"c\",\"a\"], 2 #a\n",
    "a2, k2 = [\"aaa\",\"aa\",\"a\"], 1 #aaa\n",
    "a3, k3 = [\"a\",\"b\",\"a\"], 3 #\"\""
   ]
  },
  {
   "cell_type": "code",
   "execution_count": 2,
   "metadata": {},
   "outputs": [],
   "source": [
    "def kthDistinct(arr, k):\n",
    "    distint_str = []\n",
    "\n",
    "    for i in arr:\n",
    "        x=arr.count(i)\n",
    "        if x == 1:\n",
    "            distint_str.append(i)\n",
    "\n",
    "    if len(distint_str) >= k:\n",
    "        output = distint_str[k-1]\n",
    "    else:\n",
    "        output = \"\"\n",
    "        \n",
    "    return output"
   ]
  },
  {
   "cell_type": "code",
   "execution_count": 3,
   "metadata": {},
   "outputs": [
    {
     "data": {
      "text/plain": [
       "'a'"
      ]
     },
     "execution_count": 3,
     "metadata": {},
     "output_type": "execute_result"
    }
   ],
   "source": [
    "kthDistinct(a1,k1)"
   ]
  },
  {
   "cell_type": "code",
   "execution_count": 4,
   "metadata": {},
   "outputs": [
    {
     "data": {
      "text/plain": [
       "'aaa'"
      ]
     },
     "execution_count": 4,
     "metadata": {},
     "output_type": "execute_result"
    }
   ],
   "source": [
    "kthDistinct(a2,k2)"
   ]
  },
  {
   "cell_type": "code",
   "execution_count": 5,
   "metadata": {},
   "outputs": [
    {
     "data": {
      "text/plain": [
       "''"
      ]
     },
     "execution_count": 5,
     "metadata": {},
     "output_type": "execute_result"
    }
   ],
   "source": [
    "kthDistinct(a3,k3)"
   ]
  }
 ],
 "metadata": {
  "kernelspec": {
   "display_name": ".venv",
   "language": "python",
   "name": "python3"
  },
  "language_info": {
   "codemirror_mode": {
    "name": "ipython",
    "version": 3
   },
   "file_extension": ".py",
   "mimetype": "text/x-python",
   "name": "python",
   "nbconvert_exporter": "python",
   "pygments_lexer": "ipython3",
   "version": "3.10.11"
  }
 },
 "nbformat": 4,
 "nbformat_minor": 2
}
