{
 "cells": [
  {
   "cell_type": "markdown",
   "metadata": {},
   "source": [
    "## Leet Code Problems"
   ]
  },
  {
   "cell_type": "markdown",
   "metadata": {},
   "source": [
    "**Easy Problem 1929: Concatenation of Array**\n",
    "\n",
    "Given an integer array `nums` of length `n`, you want to create an array `ans` of length `2n` where `ans[i] == nums[i]` and `ans[i + n] == nums[i]` for `0 <= i < n` (0-indexed).\n",
    "\n",
    "Specifically, ans is the concatenation of two nums arrays.\n",
    "\n",
    "Return the array ans.\n",
    "\n",
    " \n",
    "\n",
    "Example 1:\n",
    "\n",
    "- Input: nums = [1,2,1]\n",
    "- Output: [1,2,1,1,2,1]\n",
    "- Explanation: The array ans is formed as follows:\n",
    "    - ans = [nums[0], nums[1], nums[2], nums[0], nums[1], nums[2]]\n",
    "    - ans = [1,2,1,1,2,1]\n",
    "\n",
    "Example 2:\n",
    "\n",
    "- Input: nums = [1,3,2,1]\n",
    "- Output: [1,3,2,1,1,3,2,1]\n",
    "- Explanation: The array ans is formed as follows:\n",
    "    - ans = [nums[0], nums[1], nums[2], nums[3], nums[0], nums[1], nums[2], nums[3]]\n",
    "    - ans = [1,3,2,1,1,3,2,1]\n",
    "\n",
    "Constraints:\n",
    "\n",
    "    n == nums.length\n",
    "    1 <= n <= 1000\n",
    "    1 <= nums[i] <= 1000"
   ]
  },
  {
   "cell_type": "code",
   "execution_count": 27,
   "metadata": {},
   "outputs": [],
   "source": [
    "def getConcatenation(nums):\n",
    "    ans = [0] * (2*len(nums)) \n",
    "    for i in range(0,len(nums)):\n",
    "        ans[i] = nums[i]\n",
    "        ans[i+len(nums)] = nums[i]\n",
    "    return ans"
   ]
  },
  {
   "cell_type": "code",
   "execution_count": 28,
   "metadata": {},
   "outputs": [
    {
     "data": {
      "text/plain": [
       "[1, 2, 1, 1, 2, 1]"
      ]
     },
     "execution_count": 28,
     "metadata": {},
     "output_type": "execute_result"
    }
   ],
   "source": [
    "getConcatenation([1,2,1])"
   ]
  },
  {
   "cell_type": "code",
   "execution_count": 29,
   "metadata": {},
   "outputs": [
    {
     "data": {
      "text/plain": [
       "[1, 3, 2, 1, 1, 3, 2, 1]"
      ]
     },
     "execution_count": 29,
     "metadata": {},
     "output_type": "execute_result"
    }
   ],
   "source": [
    "getConcatenation([1,3,2,1])"
   ]
  },
  {
   "cell_type": "code",
   "execution_count": 39,
   "metadata": {},
   "outputs": [],
   "source": [
    "def getConcatenation2(nums):\n",
    "    ans=[]\n",
    "    for i in range(0,2*len(nums)):\n",
    "        if i<len(nums):\n",
    "            ans.append(nums[i])\n",
    "        else:\n",
    "            ans.append(nums[i-len(nums)])\n",
    "    return ans"
   ]
  },
  {
   "cell_type": "code",
   "execution_count": 40,
   "metadata": {},
   "outputs": [
    {
     "data": {
      "text/plain": [
       "[1, 2, 1, 1, 2, 1]"
      ]
     },
     "execution_count": 40,
     "metadata": {},
     "output_type": "execute_result"
    }
   ],
   "source": [
    "getConcatenation2([1,2,1])"
   ]
  },
  {
   "cell_type": "code",
   "execution_count": 41,
   "metadata": {},
   "outputs": [
    {
     "data": {
      "text/plain": [
       "[1, 3, 2, 1, 1, 3, 2, 1]"
      ]
     },
     "execution_count": 41,
     "metadata": {},
     "output_type": "execute_result"
    }
   ],
   "source": [
    "getConcatenation2([1,3,2,1])"
   ]
  },
  {
   "cell_type": "code",
   "execution_count": null,
   "metadata": {},
   "outputs": [],
   "source": []
  }
 ],
 "metadata": {
  "kernelspec": {
   "display_name": ".venv",
   "language": "python",
   "name": "python3"
  },
  "language_info": {
   "codemirror_mode": {
    "name": "ipython",
    "version": 3
   },
   "file_extension": ".py",
   "mimetype": "text/x-python",
   "name": "python",
   "nbconvert_exporter": "python",
   "pygments_lexer": "ipython3",
   "version": "3.10.11"
  }
 },
 "nbformat": 4,
 "nbformat_minor": 2
}
