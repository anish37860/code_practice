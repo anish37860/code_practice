{
 "cells": [
  {
   "cell_type": "markdown",
   "metadata": {},
   "source": [
    "## Leet Code Problems"
   ]
  },
  {
   "cell_type": "markdown",
   "metadata": {},
   "source": [
    "**Easy Problem 2769: Find the Maximum Achievable Number**\n",
    "\n",
    "Given two integers, num and t. A number is achievable if it can become equal to num after applying the following operation:\n",
    "\n",
    "    Increase or decrease the number by 1, and simultaneously increase or decrease num by 1.\n",
    "\n",
    "Return the maximum achievable number after applying the operation at most t times.\n",
    "\n",
    "Example 1:\n",
    "- Input: num = 4, t = 1\n",
    "- Output: 6\n",
    "- Explanation: Apply the following operation once to make the maximum achievable number equal to num:\n",
    "        \n",
    "        Decrease the maximum achievable number by 1, and increase num by 1.\n",
    "\n",
    "Example 2:\n",
    "- Input: num = 3, t = 2\n",
    "- Output: 7\n",
    "- Explanation: Apply the following operation twice to make the maximum achievable number equal to num:\n",
    "\n",
    "        Decrease the maximum achievable number by 1, and increase num by 1.\n",
    "\n",
    "Constraints:\n",
    "\n",
    "    1 <= num, t <= 50"
   ]
  },
  {
   "cell_type": "code",
   "execution_count": 1,
   "metadata": {},
   "outputs": [],
   "source": [
    "def theMaximumAchievableX(num: int, t: int):\n",
    "    return num + 2*t"
   ]
  },
  {
   "cell_type": "code",
   "execution_count": 2,
   "metadata": {},
   "outputs": [
    {
     "data": {
      "text/plain": [
       "6"
      ]
     },
     "execution_count": 2,
     "metadata": {},
     "output_type": "execute_result"
    }
   ],
   "source": [
    "theMaximumAchievableX(4,1)"
   ]
  },
  {
   "cell_type": "code",
   "execution_count": 3,
   "metadata": {},
   "outputs": [
    {
     "data": {
      "text/plain": [
       "7"
      ]
     },
     "execution_count": 3,
     "metadata": {},
     "output_type": "execute_result"
    }
   ],
   "source": [
    "theMaximumAchievableX(3,2)"
   ]
  },
  {
   "cell_type": "code",
   "execution_count": null,
   "metadata": {},
   "outputs": [],
   "source": [
    "def theMaximumAchievableX(num: int, t: int):\n",
    "    return num + 2*t"
   ]
  },
  {
   "cell_type": "code",
   "execution_count": null,
   "metadata": {},
   "outputs": [
    {
     "data": {
      "text/plain": [
       "6"
      ]
     },
     "metadata": {},
     "output_type": "display_data"
    }
   ],
   "source": [
    "theMaximumAchievableX(4,1)"
   ]
  },
  {
   "cell_type": "code",
   "execution_count": null,
   "metadata": {},
   "outputs": [
    {
     "data": {
      "text/plain": [
       "7"
      ]
     },
     "metadata": {},
     "output_type": "display_data"
    }
   ],
   "source": [
    "theMaximumAchievableX(3,2)"
   ]
  }
 ],
 "metadata": {
  "kernelspec": {
   "display_name": ".venv",
   "language": "python",
   "name": "python3"
  },
  "language_info": {
   "codemirror_mode": {
    "name": "ipython",
    "version": 3
   },
   "file_extension": ".py",
   "mimetype": "text/x-python",
   "name": "python",
   "nbconvert_exporter": "python",
   "pygments_lexer": "ipython3",
   "version": "3.10.11"
  }
 },
 "nbformat": 4,
 "nbformat_minor": 2
}
